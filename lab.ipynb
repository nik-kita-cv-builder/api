{
 "cells": [
  {
   "cell_type": "code",
   "execution_count": 1,
   "metadata": {},
   "outputs": [
    {
     "name": "stdout",
     "output_type": "stream",
     "text": [
      "id=1\n",
      "[Tag(id=1)]\n"
     ]
    }
   ],
   "source": [
    "from sqlmodel import Field, Relationship, create_engine\n",
    "from sqlmodel import SQLModel, Session, SQLModel\n",
    "\n",
    "\n",
    "SQLALCHEMY_DATABASE_URL = \"sqlite:///:memory:\"\n",
    "\n",
    "engine = create_engine(\n",
    "    SQLALCHEMY_DATABASE_URL, connect_args={\"check_same_thread\": False}\n",
    ")\n",
    "\n",
    "\n",
    "class TagsPosts(SQLModel, table=True):\n",
    "    __tablename__ = 'tags_posts'\n",
    "    tag_id: int | None = Field(\n",
    "        primary_key=True, default=None, foreign_key='tags.id')\n",
    "    post_id: int | None = Field(\n",
    "        primary_key=True, default=None, foreign_key='posts.id')\n",
    "\n",
    "\n",
    "class Tag(SQLModel, table=True):\n",
    "    __tablename__ = 'tags'\n",
    "    id: int | None = Field(default=None, primary_key=True)\n",
    "\n",
    "\n",
    "class Post(SQLModel, table=True):\n",
    "    __tablename__ = \"posts\"\n",
    "    id: int | None = Field(default=None, primary_key=True)\n",
    "\n",
    "    tags: list[Tag] = Relationship(\n",
    "        link_model=TagsPosts,\n",
    "    )\n",
    "\n",
    "\n",
    "SQLModel.metadata.create_all(engine)\n",
    "\n",
    "session = Session(engine)\n",
    "\n",
    "tag = Tag()\n",
    "post = Post(tags=[tag])\n",
    "session.add(post)\n",
    "session.commit()\n",
    "session.refresh(post)\n",
    "\n",
    "print(post)\n",
    "print(post.tags)"
   ]
  },
  {
   "cell_type": "code",
   "execution_count": 2,
   "metadata": {},
   "outputs": [
    {
     "name": "stdout",
     "output_type": "stream",
     "text": [
      "[1, 2, 3, 11, 22, 33]\n"
     ]
    }
   ],
   "source": [
    "arr = [1, 2, 3]\n",
    "\n",
    "arr.extend([11, 22, 33]) if True else None\n",
    "\n",
    "print(arr)"
   ]
  },
  {
   "cell_type": "code",
   "execution_count": 8,
   "metadata": {},
   "outputs": [
    {
     "name": "stdout",
     "output_type": "stream",
     "text": [
      "1 [2, 3]\n"
     ]
    }
   ],
   "source": [
    "def multiple_return():\n",
    "    return 1, 2, 3\n",
    "\n",
    "\n",
    "a, *rest = multiple_return()\n",
    "\n",
    "print(a, rest)"
   ]
  }
 ],
 "metadata": {
  "kernelspec": {
   "display_name": ".venv",
   "language": "python",
   "name": "python3"
  },
  "language_info": {
   "codemirror_mode": {
    "name": "ipython",
    "version": 3
   },
   "file_extension": ".py",
   "mimetype": "text/x-python",
   "name": "python",
   "nbconvert_exporter": "python",
   "pygments_lexer": "ipython3",
   "version": "3.11.6"
  }
 },
 "nbformat": 4,
 "nbformat_minor": 2
}
